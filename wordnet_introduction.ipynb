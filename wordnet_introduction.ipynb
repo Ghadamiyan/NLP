{
 "cells": [
  {
   "cell_type": "code",
   "execution_count": 1,
   "metadata": {},
   "outputs": [],
   "source": [
    "import re\n",
    "from nltk.corpus import wordnet\n",
    "import operator"
   ]
  },
  {
   "cell_type": "markdown",
   "metadata": {},
   "source": [
    "# 1\n",
    "Create a function that receives a word and prints the associated glosses for all the possible senses of that word (you must find all its corresponding synsets and print the gloss for each)"
   ]
  },
  {
   "cell_type": "code",
   "execution_count": 2,
   "metadata": {},
   "outputs": [],
   "source": [
    "def associated_glosses(word):\n",
    "    ag = []\n",
    "    for synonym in wordnet.synsets(word):\n",
    "        ag.append((synonym, synonym.definition()))\n",
    "    return ag"
   ]
  },
  {
   "cell_type": "code",
   "execution_count": 3,
   "metadata": {},
   "outputs": [
    {
     "data": {
      "text/plain": [
       "[(Synset('school.n.01'), 'an educational institution'),\n",
       " (Synset('school.n.02'), 'a building where young people receive education'),\n",
       " (Synset('school.n.03'), 'the process of being formally educated at a school'),\n",
       " (Synset('school.n.04'),\n",
       "  'a body of creative artists or writers or thinkers linked by a similar style or by similar teachers'),\n",
       " (Synset('school.n.05'),\n",
       "  'the period of instruction in a school; the time period when school is in session'),\n",
       " (Synset('school.n.06'), \"an educational institution's faculty and students\"),\n",
       " (Synset('school.n.07'), 'a large group of fish'),\n",
       " (Synset('school.v.01'), 'educate in or as if in a school'),\n",
       " (Synset('educate.v.03'),\n",
       "  'teach or refine to be discriminative in taste or judgment'),\n",
       " (Synset('school.v.03'), 'swim in or form a large group of fish')]"
      ]
     },
     "execution_count": 3,
     "metadata": {},
     "output_type": "execute_result"
    }
   ],
   "source": [
    "associated_glosses('school')"
   ]
  },
  {
   "cell_type": "markdown",
   "metadata": {},
   "source": [
    "# 2\n",
    "Create a function that receives two words as parameters. The function will check, using WordNet if the two words can be synonyms (there is at least one synset that contains the two words). If such synset is found, rint the gloss for that synset."
   ]
  },
  {
   "cell_type": "code",
   "execution_count": 4,
   "metadata": {},
   "outputs": [],
   "source": [
    "def synonyms(word, word_):\n",
    "    \n",
    "    for synonym in wordnet.synsets(word):\n",
    "        if synonym in wordnet.synsets(word_):\n",
    "            return synonym.definition()\n",
    "    return False"
   ]
  },
  {
   "cell_type": "code",
   "execution_count": 5,
   "metadata": {},
   "outputs": [
    {
     "data": {
      "text/plain": [
       "'teach or refine to be discriminative in taste or judgment'"
      ]
     },
     "execution_count": 5,
     "metadata": {},
     "output_type": "execute_result"
    }
   ],
   "source": [
    "synonyms('school', 'educate')"
   ]
  },
  {
   "cell_type": "markdown",
   "metadata": {},
   "source": [
    "# 3\n",
    "Create a function that receives a synset object and returns a tuple with 2 lists. The first list contains the holonyms (all types of holonyms) and the second one the meronyms (all types). Find a word that has either holonyms or meronyms of different types. Print them separately (on cathegories of holonyms/meronyms) and then all together using the created function (in order to check that it prints them all)."
   ]
  },
  {
   "cell_type": "code",
   "execution_count": 6,
   "metadata": {},
   "outputs": [],
   "source": [
    "def holonyms_and_meronyms(synset):\n",
    "    holonyms = synset.part_holonyms() + synset.substance_holonyms() + synset.member_holonyms() \n",
    "    meronyms = synset.part_meronyms() + synset.substance_meronyms() + synset.member_meronyms()\n",
    "    return (holonyms, meronyms)"
   ]
  },
  {
   "cell_type": "code",
   "execution_count": 7,
   "metadata": {},
   "outputs": [
    {
     "data": {
      "text/plain": [
       "[Synset('saliva.n.01')]"
      ]
     },
     "execution_count": 7,
     "metadata": {},
     "output_type": "execute_result"
    }
   ],
   "source": [
    "wordnet.synsets('saliva')"
   ]
  },
  {
   "cell_type": "code",
   "execution_count": 8,
   "metadata": {},
   "outputs": [
    {
     "data": {
      "text/plain": [
       "([Synset('salivary_gland.n.01')], [Synset('ptyalin.n.01')])"
      ]
     },
     "execution_count": 8,
     "metadata": {},
     "output_type": "execute_result"
    }
   ],
   "source": [
    "holonyms_and_meronyms(wordnet.synsets('saliva')[0])"
   ]
  },
  {
   "cell_type": "code",
   "execution_count": 9,
   "metadata": {},
   "outputs": [
    {
     "name": "stdout",
     "output_type": "stream",
     "text": [
      "[Synset('salivary_gland.n.01')]\n",
      "[]\n",
      "[]\n"
     ]
    }
   ],
   "source": [
    "print(wordnet.synsets('saliva')[0].part_holonyms())\n",
    "print(wordnet.synsets('saliva')[0].substance_holonyms())\n",
    "print(wordnet.synsets('saliva')[0].member_holonyms()) "
   ]
  },
  {
   "cell_type": "code",
   "execution_count": 10,
   "metadata": {},
   "outputs": [
    {
     "name": "stdout",
     "output_type": "stream",
     "text": [
      "[]\n",
      "[Synset('ptyalin.n.01')]\n",
      "[]\n"
     ]
    }
   ],
   "source": [
    "print(wordnet.synsets('saliva')[0].part_meronyms())\n",
    "print(wordnet.synsets('saliva')[0].substance_meronyms())\n",
    "print(wordnet.synsets('saliva')[0].member_meronyms())"
   ]
  },
  {
   "cell_type": "markdown",
   "metadata": {},
   "source": [
    "# 4\n",
    "Create a function that for a given synset, prints the path of hypernyms (going to the next hypernym, and from that hypernym to the next one and so on, until it reaches the root)."
   ]
  },
  {
   "cell_type": "code",
   "execution_count": 11,
   "metadata": {},
   "outputs": [],
   "source": [
    "def hypernyms_path(synset):\n",
    "    \n",
    "    print(synset)\n",
    "    if synset.hypernyms() != []:\n",
    "        hypernyms_path(synset.hypernyms()[0])"
   ]
  },
  {
   "cell_type": "code",
   "execution_count": 12,
   "metadata": {},
   "outputs": [
    {
     "data": {
      "text/plain": [
       "Synset('mathematics.n.01')"
      ]
     },
     "execution_count": 12,
     "metadata": {},
     "output_type": "execute_result"
    }
   ],
   "source": [
    "wordnet.synsets('mathematics')[0]"
   ]
  },
  {
   "cell_type": "code",
   "execution_count": 13,
   "metadata": {},
   "outputs": [
    {
     "name": "stdout",
     "output_type": "stream",
     "text": [
      "Synset('mathematics.n.01')\n",
      "Synset('science.n.01')\n",
      "Synset('discipline.n.01')\n",
      "Synset('knowledge_domain.n.01')\n",
      "Synset('content.n.05')\n",
      "Synset('cognition.n.01')\n",
      "Synset('psychological_feature.n.01')\n",
      "Synset('abstraction.n.06')\n",
      "Synset('entity.n.01')\n"
     ]
    }
   ],
   "source": [
    "hypernyms_path(wordnet.synsets('mathematics')[0])"
   ]
  },
  {
   "cell_type": "markdown",
   "metadata": {},
   "source": [
    "# 5\n",
    "Create a function that receives two synsets as parameters. We consider d1(k) the length of the path from the first word to the hypernym k (the length of the path is the number of hypernyms it goes through, to reach k) and d2(k) the length of the path from the second word to the hypernym k. The function will return the list of hypernyms having the property that d1(k)+d2(k) is minimum (there can be multiple hypernyms with this property ; all having equal distances that are this minimum number; you must print them all)."
   ]
  },
  {
   "cell_type": "code",
   "execution_count": 14,
   "metadata": {},
   "outputs": [],
   "source": [
    "def hypernyms_all_paths(synset, level = 0):\n",
    "    path = []\n",
    "    path.append(synset)\n",
    "    print((synset, level))\n",
    "    for synonym in synset.hypernyms():\n",
    "        path.append(hypernyms_all_paths(synonym, level + 1))\n",
    "    return path"
   ]
  },
  {
   "cell_type": "code",
   "execution_count": 15,
   "metadata": {},
   "outputs": [],
   "source": [
    "def minimum_distance_hypernyms(synset, synset1):\n",
    "    path = hypernyms_all_paths(synset)\n",
    "    print(\"\\n\")\n",
    "    path1 = hypernyms_all_paths(synset1)\n",
    "    print(\"\\n\")\n",
    "\n",
    "    for hyperonym in path:\n",
    "        for hyperonym1 in path1:\n",
    "            print(str(hyperonym), str(hyperonym1))\n",
    "            print(\"\\n\")\n",
    "            if str(hyperonym) == str(hyperonym1):\n",
    "                print(hyperonym)\n"
   ]
  },
  {
   "cell_type": "code",
   "execution_count": 16,
   "metadata": {},
   "outputs": [
    {
     "name": "stdout",
     "output_type": "stream",
     "text": [
      "(Synset('mathematics.n.01'), 0)\n",
      "(Synset('science.n.01'), 1)\n",
      "(Synset('discipline.n.01'), 2)\n",
      "(Synset('knowledge_domain.n.01'), 3)\n",
      "(Synset('content.n.05'), 4)\n",
      "(Synset('cognition.n.01'), 5)\n",
      "(Synset('psychological_feature.n.01'), 6)\n",
      "(Synset('abstraction.n.06'), 7)\n",
      "(Synset('entity.n.01'), 8)\n",
      "\n",
      "\n",
      "(Synset('physics.n.01'), 0)\n",
      "(Synset('natural_science.n.01'), 1)\n",
      "(Synset('science.n.01'), 2)\n",
      "(Synset('discipline.n.01'), 3)\n",
      "(Synset('knowledge_domain.n.01'), 4)\n",
      "(Synset('content.n.05'), 5)\n",
      "(Synset('cognition.n.01'), 6)\n",
      "(Synset('psychological_feature.n.01'), 7)\n",
      "(Synset('abstraction.n.06'), 8)\n",
      "(Synset('entity.n.01'), 9)\n",
      "\n",
      "\n",
      "Synset('mathematics.n.01') Synset('physics.n.01')\n",
      "\n",
      "\n",
      "Synset('mathematics.n.01') [Synset('natural_science.n.01'), [Synset('science.n.01'), [Synset('discipline.n.01'), [Synset('knowledge_domain.n.01'), [Synset('content.n.05'), [Synset('cognition.n.01'), [Synset('psychological_feature.n.01'), [Synset('abstraction.n.06'), [Synset('entity.n.01')]]]]]]]]]\n",
      "\n",
      "\n",
      "[Synset('science.n.01'), [Synset('discipline.n.01'), [Synset('knowledge_domain.n.01'), [Synset('content.n.05'), [Synset('cognition.n.01'), [Synset('psychological_feature.n.01'), [Synset('abstraction.n.06'), [Synset('entity.n.01')]]]]]]]] Synset('physics.n.01')\n",
      "\n",
      "\n",
      "[Synset('science.n.01'), [Synset('discipline.n.01'), [Synset('knowledge_domain.n.01'), [Synset('content.n.05'), [Synset('cognition.n.01'), [Synset('psychological_feature.n.01'), [Synset('abstraction.n.06'), [Synset('entity.n.01')]]]]]]]] [Synset('natural_science.n.01'), [Synset('science.n.01'), [Synset('discipline.n.01'), [Synset('knowledge_domain.n.01'), [Synset('content.n.05'), [Synset('cognition.n.01'), [Synset('psychological_feature.n.01'), [Synset('abstraction.n.06'), [Synset('entity.n.01')]]]]]]]]]\n",
      "\n",
      "\n"
     ]
    }
   ],
   "source": [
    "minimum_distance_hypernyms(wordnet.synsets('mathematics')[0], wordnet.synsets('physics')[0])"
   ]
  },
  {
   "cell_type": "markdown",
   "metadata": {},
   "source": [
    "# 6\n",
    "\n",
    "Create a function that receives a synset object and a list of synsets (the list must contain at least 5 elements). The function will return a sorted list. The list will be sorted by the similarity between the first synset and the synsets in the list. For example (we consider we take the firs synset for each word) we can test for the word cat and the list: animal, tree, house, object, public_school, mouse."
   ]
  },
  {
   "cell_type": "code",
   "execution_count": 17,
   "metadata": {},
   "outputs": [],
   "source": [
    "def similarity_order(synset, synsets):\n",
    "    \n",
    "    ordered = []\n",
    "    for synset_ in synsets:\n",
    "        ordered.append((synset_, synset.path_similarity(synset_)))\n",
    "\n",
    "    return sorted(ordered, key = operator.itemgetter(1), reverse = True)"
   ]
  },
  {
   "cell_type": "code",
   "execution_count": 18,
   "metadata": {},
   "outputs": [
    {
     "data": {
      "text/plain": [
       "[(Synset('mouse.n.01'), 0.16666666666666666),\n",
       " (Synset('animal.n.01'), 0.125),\n",
       " (Synset('object.n.01'), 0.08333333333333333),\n",
       " (Synset('tree.n.01'), 0.07692307692307693),\n",
       " (Synset('house.n.01'), 0.06666666666666667),\n",
       " (Synset('public_school.n.01'), 0.045454545454545456)]"
      ]
     },
     "execution_count": 18,
     "metadata": {},
     "output_type": "execute_result"
    }
   ],
   "source": [
    "similarity_order(wordnet.synsets('cat')[0], [wordnet.synsets('animal')[0], wordnet.synsets('tree')[0], wordnet.synsets('object')[0], wordnet.synsets('house')[0], wordnet.synsets('public_school')[0],wordnet.synsets('mouse')[0]])"
   ]
  },
  {
   "cell_type": "markdown",
   "metadata": {},
   "source": [
    "# 7 \n",
    "\n",
    "Create a function that checks if two synsets can be indirect meronyms for the same synset. An indirect meronym is either a part of the givem element or a part of a part of the given element (and we can exten this relation as being part of part of part of etc....). This applies to any type of meronym."
   ]
  },
  {
   "cell_type": "code",
   "execution_count": 19,
   "metadata": {},
   "outputs": [],
   "source": [
    "def get_indirect_meronyms(synset):\n",
    "    \n",
    "    meronyms_ = []\n",
    "    meronyms_ += synset.substance_meronyms() + synset.part_meronyms() + synset.member_meronyms()\n",
    "    meronyms = set(meronyms_)\n",
    "    \n",
    "    while True:\n",
    "        \n",
    "        before = len(meronyms)\n",
    "        meronyms_of_meronyms = []\n",
    "        \n",
    "        for meronym in meronyms:\n",
    "            meronyms_of_meronyms += meronym.substance_meronyms() + meronym.part_meronyms() + meronym.member_meronyms()\n",
    "            \n",
    "        meronyms.update(meronyms_of_meronyms)\n",
    "        \n",
    "        if before == len(meronyms):\n",
    "            break\n",
    "            \n",
    "    return meronyms"
   ]
  },
  {
   "cell_type": "code",
   "execution_count": 20,
   "metadata": {},
   "outputs": [],
   "source": [
    "def check_indirect_meronyms(synset, synset1):\n",
    "\n",
    "    intermediar = []\n",
    "    for meronym in get_indirect_meronyms(synset):\n",
    "        if meronym in get_indirect_meronyms(synset1):\n",
    "            intermediar.append(meronym)\n",
    "\n",
    "    if intermediar:\n",
    "        return True\n",
    "    return False"
   ]
  },
  {
   "cell_type": "code",
   "execution_count": 21,
   "metadata": {},
   "outputs": [
    {
     "data": {
      "text/plain": [
       "True"
      ]
     },
     "execution_count": 21,
     "metadata": {},
     "output_type": "execute_result"
    }
   ],
   "source": [
    "check_indirect_meronyms(wordnet.synsets('water')[0], wordnet.synsets('H2O')[0])"
   ]
  },
  {
   "cell_type": "code",
   "execution_count": 22,
   "metadata": {},
   "outputs": [
    {
     "data": {
      "text/plain": [
       "True"
      ]
     },
     "execution_count": 22,
     "metadata": {},
     "output_type": "execute_result"
    }
   ],
   "source": [
    "check_indirect_meronyms(wordnet.synsets('body')[0], wordnet.synsets('saliva')[0])"
   ]
  },
  {
   "cell_type": "code",
   "execution_count": 23,
   "metadata": {},
   "outputs": [
    {
     "data": {
      "text/plain": [
       "False"
      ]
     },
     "execution_count": 23,
     "metadata": {},
     "output_type": "execute_result"
    }
   ],
   "source": [
    "check_indirect_meronyms(wordnet.synsets('school')[0], wordnet.synsets('moon')[0])"
   ]
  },
  {
   "cell_type": "markdown",
   "metadata": {},
   "source": [
    "# 8\n",
    "\n",
    "Print the synonyms and antonyms of an adjective (for example, \"beautiful\"). If it's polisemantic, print them for each sense, also printing the gloss for that sense (synset)."
   ]
  },
  {
   "cell_type": "code",
   "execution_count": 24,
   "metadata": {},
   "outputs": [],
   "source": [
    "def get_synonyms_antonyms(word):\n",
    "\n",
    "    for i, synset in enumerate(wordnet.synsets(word)):\n",
    "        \n",
    "        print(str(i)+\" The gloss: \", synset.definition())\n",
    "        print(\"\\n\")\n",
    "        print(str(i)+\" Synonyms: \", synset.similar_tos())\n",
    "        print(\"\\n\")\n",
    "        print(str(i)+\" Antonyms: \", synset.lemmas()[0].antonyms())\n",
    "        print(\"\\n\")\n",
    "        print(\"\\n\")"
   ]
  },
  {
   "cell_type": "code",
   "execution_count": 25,
   "metadata": {},
   "outputs": [
    {
     "name": "stdout",
     "output_type": "stream",
     "text": [
      "0 The gloss:  delighting the senses or exciting intellectual or emotional admiration\n",
      "\n",
      "\n",
      "0 Synonyms:  [Synset('beauteous.s.01'), Synset('bonny.s.01'), Synset('dishy.s.01'), Synset('exquisite.s.04'), Synset('fine-looking.s.01'), Synset('glorious.s.03'), Synset('gorgeous.s.01'), Synset('lovely.s.01'), Synset('picturesque.s.01'), Synset('pretty-pretty.s.01'), Synset('pretty.s.01'), Synset('pulchritudinous.s.01'), Synset('ravishing.s.01'), Synset('scenic.s.01'), Synset('stunning.s.04')]\n",
      "\n",
      "\n",
      "0 Antonyms:  [Lemma('ugly.a.01.ugly')]\n",
      "\n",
      "\n",
      "\n",
      "\n",
      "1 The gloss:  (of weather) highly enjoyable\n",
      "\n",
      "\n",
      "1 Synonyms:  [Synset('pleasant.a.01')]\n",
      "\n",
      "\n",
      "1 Antonyms:  []\n",
      "\n",
      "\n",
      "\n",
      "\n"
     ]
    }
   ],
   "source": [
    "get_synonyms_antonyms('beautiful')"
   ]
  },
  {
   "cell_type": "code",
   "execution_count": 26,
   "metadata": {},
   "outputs": [
    {
     "name": "stdout",
     "output_type": "stream",
     "text": [
      "0 The gloss:  a city in southeastern France on the Mediterranean; the leading resort on the French Riviera\n",
      "\n",
      "\n",
      "0 Synonyms:  []\n",
      "\n",
      "\n",
      "0 Antonyms:  []\n",
      "\n",
      "\n",
      "\n",
      "\n",
      "1 The gloss:  pleasant or pleasing or agreeable in nature or appearance; - George Meredith\n",
      "\n",
      "\n",
      "1 Synonyms:  [Synset('good.s.06'), Synset('pleasant.s.02')]\n",
      "\n",
      "\n",
      "1 Antonyms:  [Lemma('nasty.a.01.nasty')]\n",
      "\n",
      "\n",
      "\n",
      "\n",
      "2 The gloss:  socially or conventionally correct; refined or virtuous\n",
      "\n",
      "\n",
      "2 Synonyms:  [Synset('respectable.a.01')]\n",
      "\n",
      "\n",
      "2 Antonyms:  []\n",
      "\n",
      "\n",
      "\n",
      "\n",
      "3 The gloss:  done with delicacy and skill\n",
      "\n",
      "\n",
      "3 Synonyms:  [Synset('precise.a.01')]\n",
      "\n",
      "\n",
      "3 Antonyms:  []\n",
      "\n",
      "\n",
      "\n",
      "\n",
      "4 The gloss:  excessively fastidious and easily disgusted\n",
      "\n",
      "\n",
      "4 Synonyms:  [Synset('fastidious.a.01')]\n",
      "\n",
      "\n",
      "4 Antonyms:  []\n",
      "\n",
      "\n",
      "\n",
      "\n",
      "5 The gloss:  exhibiting courtesy and politeness\n",
      "\n",
      "\n",
      "5 Synonyms:  [Synset('polite.a.01')]\n",
      "\n",
      "\n",
      "5 Antonyms:  []\n",
      "\n",
      "\n",
      "\n",
      "\n"
     ]
    }
   ],
   "source": [
    "get_synonyms_antonyms('nice')"
   ]
  },
  {
   "cell_type": "code",
   "execution_count": 27,
   "metadata": {},
   "outputs": [
    {
     "name": "stdout",
     "output_type": "stream",
     "text": [
      "0 The gloss:  affording satisfaction or pleasure\n",
      "\n",
      "\n",
      "0 Synonyms:  [Synset('pleasant.a.01')]\n",
      "\n",
      "\n",
      "0 Antonyms:  []\n",
      "\n",
      "\n",
      "\n",
      "\n"
     ]
    }
   ],
   "source": [
    "get_synonyms_antonyms('enjoyable')"
   ]
  },
  {
   "cell_type": "code",
   "execution_count": null,
   "metadata": {},
   "outputs": [],
   "source": []
  }
 ],
 "metadata": {
  "kernelspec": {
   "display_name": "Python 3",
   "language": "python",
   "name": "python3"
  },
  "language_info": {
   "codemirror_mode": {
    "name": "ipython",
    "version": 3
   },
   "file_extension": ".py",
   "mimetype": "text/x-python",
   "name": "python",
   "nbconvert_exporter": "python",
   "pygments_lexer": "ipython3",
   "version": "3.7.6"
  }
 },
 "nbformat": 4,
 "nbformat_minor": 4
}
