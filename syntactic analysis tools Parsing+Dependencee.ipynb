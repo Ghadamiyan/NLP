{
 "cells": [
  {
   "cell_type": "markdown",
   "metadata": {},
   "source": [
    "# 2.4 \n",
    "Parse the sentence (constituency parsing) using the downloaded Stanford tool. Upload the tree image.\n",
    "\n",
    "Use the parser in comand line. Apply it on the same sentence. Write a command so that you obtain in an output file only the syntactic analysis based on constituents and dependencies. The output file must not contain any other information than the one required. Upload the file. Use Dependensee to observe the dependency arrows on the given sentence. Upload the image."
   ]
  },
  {
   "cell_type": "code",
   "execution_count": 1,
   "metadata": {},
   "outputs": [
    {
     "name": "stderr",
     "output_type": "stream",
     "text": [
      "D:\\Anaconda\\lib\\site-packages\\ipykernel_launcher.py:7: DeprecationWarning: The StanfordParser will be deprecated\n",
      "Please use \u001b[91mnltk.parse.corenlp.CoreNLPParser\u001b[0m instead.\n",
      "  import sys\n"
     ]
    },
    {
     "name": "stdout",
     "output_type": "stream",
     "text": [
      "(ROOT\n",
      "  (S\n",
      "    (NP (PRP$ My) (NN backyard))\n",
      "    (VP\n",
      "      (VBZ is)\n",
      "      (ADJP (JJ full) (PP (IN of) (NP (VBG blooming) (NNS flowers)))))\n",
      "    (. .)))\n"
     ]
    }
   ],
   "source": [
    "import os\n",
    "from nltk.parse import stanford\n",
    "\n",
    "os.environ['STANFORD_PARSER'] = '.\\parser\\parser\\stanford-parser.jar'\n",
    "os.environ['STANFORD_MODELS'] = '.\\parser\\parser\\stanford-parser-4.2.0-models.jar'\n",
    "\n",
    "parser = stanford.StanfordParser(model_path=\".\\parser\\parser\\model\\englishPCFG.ser.gz\")\n",
    "sentence = parser.raw_parse(\"My backyard is full of blooming flowers.\")\n",
    "for word in sentence:\n",
    "    print(word)\n",
    "    with open(\"output.txt\", 'a+') as f:\n",
    "        f.write(str(word))"
   ]
  },
  {
   "cell_type": "code",
   "execution_count": 2,
   "metadata": {},
   "outputs": [
    {
     "name": "stderr",
     "output_type": "stream",
     "text": [
      "[main] INFO edu.stanford.nlp.parser.lexparser.LexicalizedParser - Loading parser from serialized file edu/stanford/nlp/models/lexparser/englishPCFG.ser.gz ... done [3.4 sec].\n"
     ]
    }
   ],
   "source": [
    "!java -cp \".\\parser\\parser\\*\" com.chaoticity.dependensee.Main \"My backyard is full of blooming flowers.\" dependencee.png"
   ]
  },
  {
   "cell_type": "code",
   "execution_count": 3,
   "metadata": {},
   "outputs": [
    {
     "name": "stderr",
     "output_type": "stream",
     "text": [
      "[main] INFO edu.stanford.nlp.parser.lexparser.LexicalizedParser - Loading parser from serialized file edu/stanford/nlp/models/lexparser/englishPCFG.ser.gz ... done [3.2 sec].\n",
      "Parsing file: .\\input.txt\n",
      "Parsing [sent. 1 len. 8]: My backyard is full of blooming flowers .\n",
      "Parsed file: .\\input.txt [1 sentences].\n",
      "Parsed 8 words in 1 sentences (5,57 wds/sec; 0,70 sents/sec).\n"
     ]
    }
   ],
   "source": [
    "!java -mx500m -cp \".\\parser\\parser\\*\" edu.stanford.nlp.parser.lexparser.LexicalizedParser -retainTMPSubcategories -outputFormat \"wordsAndTags,penn,typedDependencies\" edu/stanford/nlp/models/lexparser/englishPCFG.ser.gz .\\input.txt > .\\parsed.txt"
   ]
  },
  {
   "cell_type": "code",
   "execution_count": 4,
   "metadata": {},
   "outputs": [
    {
     "name": "stderr",
     "output_type": "stream",
     "text": [
      "'.\\lexparser-gui.sh' is not recognized as an internal or external command,\n",
      "operable program or batch file.\n"
     ]
    }
   ],
   "source": [
    "!.\\lexparser-gui.sh"
   ]
  },
  {
   "cell_type": "code",
   "execution_count": null,
   "metadata": {},
   "outputs": [],
   "source": []
  }
 ],
 "metadata": {
  "kernelspec": {
   "display_name": "Python 3",
   "language": "python",
   "name": "python3"
  },
  "language_info": {
   "codemirror_mode": {
    "name": "ipython",
    "version": 3
   },
   "file_extension": ".py",
   "mimetype": "text/x-python",
   "name": "python",
   "nbconvert_exporter": "python",
   "pygments_lexer": "ipython3",
   "version": "3.7.6"
  }
 },
 "nbformat": 4,
 "nbformat_minor": 4
}
