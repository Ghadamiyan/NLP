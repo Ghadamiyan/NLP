{
 "cells": [
  {
   "cell_type": "code",
   "execution_count": 1,
   "metadata": {},
   "outputs": [],
   "source": [
    "import nltk"
   ]
  },
  {
   "cell_type": "code",
   "execution_count": 2,
   "metadata": {},
   "outputs": [],
   "source": [
    "gram_lab = nltk.CFG.fromstring(\"\"\"  S -> NP VP\n",
    "                                    S -> VP\n",
    "                                    NP -> DT NN\n",
    "                                    NP -> DT JJ NN\n",
    "                                    NP -> PRP\n",
    "                                    VP -> VBP NP\n",
    "                                    VP -> VBP VP\n",
    "                                    VP -> VBG NP\n",
    "                                    VP -> TO VP\n",
    "                                    VP -> VB\n",
    "                                    VP -> VB NP\n",
    "                                    NN -> \"show\" | \"book\"\n",
    "                                    PRP -> \"I\"\n",
    "                                    VBP -> \"am\"\n",
    "                                    VBG -> \"watching\"\n",
    "                                    VB -> \"show\"\n",
    "                                    DT -> \"a\" | \"the\"\n",
    "                                    MD -> \"will\"  \"\"\")"
   ]
  },
  {
   "cell_type": "code",
   "execution_count": 3,
   "metadata": {},
   "outputs": [],
   "source": [
    "def Bottom_Up(grammar, bottom, goal):\n",
    "    stack = []\n",
    "    result_ = []\n",
    "    start = list(grammar.productions(rhs = bottom)) # Get the productions that have the starting word in rhs\n",
    "    \n",
    "    for prod in start: #direct match (show & NN case)\n",
    "        if (prod.lhs() == goal):\n",
    "            result_.append([prod])\n",
    "        \n",
    "    while len(start) > 0:   # As long as we did not reach the goal\n",
    "        w = start[0]\n",
    "        start.pop(0) # for each prod containing the starting word\n",
    "        stack.append(w) # store that prod\n",
    "        \n",
    "        productions = grammar.productions(rhs = w.lhs()) # get next productions\n",
    "        \n",
    "        for prod in productions:\n",
    "            if prod.lhs() == goal:  # check if they match the goal\n",
    "                stack.append(prod)\n",
    "                \n",
    "                res = []\n",
    "                for el in stack:\n",
    "                    res.append(el)\n",
    "                    \n",
    "                result_.append(res)\n",
    "                stack.pop(1)\n",
    "            start.insert(0, prod)         # Get next prod\n",
    "        \n",
    "    return result_"
   ]
  },
  {
   "cell_type": "code",
   "execution_count": 4,
   "metadata": {},
   "outputs": [
    {
     "data": {
      "text/plain": [
       "[[VBP -> 'am', VP -> VBP NP], [VBP -> 'am', VP -> VBP VP]]"
      ]
     },
     "execution_count": 4,
     "metadata": {},
     "output_type": "execute_result"
    }
   ],
   "source": [
    "Bottom_Up(gram_lab, 'am', nltk.Nonterminal('VP'))  # multiple cases"
   ]
  },
  {
   "cell_type": "code",
   "execution_count": 5,
   "metadata": {},
   "outputs": [
    {
     "data": {
      "text/plain": [
       "[[VBG -> 'watching', VP -> VBG NP, S -> VP]]"
      ]
     },
     "execution_count": 5,
     "metadata": {},
     "output_type": "execute_result"
    }
   ],
   "source": [
    "Bottom_Up(gram_lab, 'watching', nltk.Nonterminal('S'))  # multiple prod"
   ]
  },
  {
   "cell_type": "code",
   "execution_count": 6,
   "metadata": {},
   "outputs": [
    {
     "data": {
      "text/plain": [
       "[[NN -> 'show']]"
      ]
     },
     "execution_count": 6,
     "metadata": {},
     "output_type": "execute_result"
    }
   ],
   "source": [
    "Bottom_Up(gram_lab, 'show', nltk.Nonterminal('NN'))  # direct match"
   ]
  },
  {
   "cell_type": "code",
   "execution_count": 7,
   "metadata": {},
   "outputs": [
    {
     "data": {
      "text/plain": [
       "[]"
      ]
     },
     "execution_count": 7,
     "metadata": {},
     "output_type": "execute_result"
    }
   ],
   "source": [
    "Bottom_Up(gram_lab, 'a', nltk.Nonterminal('VP'))  # does not match because we use the left corner table"
   ]
  },
  {
   "cell_type": "code",
   "execution_count": 8,
   "metadata": {},
   "outputs": [],
   "source": [
    "sentence = 'I am wathing a show'\n",
    "words = ['I', 'am', 'watching', 'a', 'show']"
   ]
  },
  {
   "cell_type": "code",
   "execution_count": 9,
   "metadata": {},
   "outputs": [
    {
     "data": {
      "text/plain": [
       "[[PRP -> 'I', NP -> PRP, S -> NP VP]]"
      ]
     },
     "execution_count": 9,
     "metadata": {},
     "output_type": "execute_result"
    }
   ],
   "source": [
    "Bottom_Up(gram_lab, 'I', nltk.Nonterminal('S'))"
   ]
  },
  {
   "cell_type": "code",
   "execution_count": 10,
   "metadata": {},
   "outputs": [],
   "source": [
    "def left_corner_parser(grammar, data, goal, i = 0):\n",
    "    \n",
    "    \n",
    "    productions = Bottom_Up(grammar, data[i], goal)\n",
    "    if not productions:    # No match\n",
    "        return False\n",
    "    \n",
    "    for production in productions: # Go up until we find the next goal\n",
    "        for prod in production[1:]:\n",
    "            if len(prod.rhs()) != 1: # Top down (S->NP VP)\n",
    "                for element in prod.rhs()[1:]: # prod.rhs()[1] is where we came from (in the left corner table) (NP)\n",
    "                                            # we want to perform top down for the next branch that we just found (VP)\n",
    "                    if i + 1 >= len(data):        # if we have a new branch but no words to continue => Fail => backtrack\n",
    "                        break\n",
    "                    \n",
    "                    re = left_corner_parser(grammar, data, element, i + 1)  # Match next word with the new banch (am & VP)\n",
    "                    \n",
    "                    if not re:               # if there is no match => Fail => backtrack\n",
    "                        break\n",
    "                        \n",
    "    print(production)\n",
    "    return True\n"
   ]
  },
  {
   "cell_type": "code",
   "execution_count": 11,
   "metadata": {},
   "outputs": [
    {
     "name": "stdout",
     "output_type": "stream",
     "text": [
      "[NN -> 'show']\n",
      "[DT -> 'a', NP -> DT JJ NN]\n",
      "[VBG -> 'watching', VP -> VBG NP]\n",
      "[VBP -> 'am', VP -> VBP VP]\n",
      "[PRP -> 'I', NP -> PRP, S -> NP VP]\n"
     ]
    },
    {
     "data": {
      "text/plain": [
       "True"
      ]
     },
     "execution_count": 11,
     "metadata": {},
     "output_type": "execute_result"
    }
   ],
   "source": [
    "left_corner_parser(gram_lab, ['I', 'am', 'watching', 'a', 'show'], gram_lab.start())"
   ]
  },
  {
   "cell_type": "code",
   "execution_count": 12,
   "metadata": {},
   "outputs": [
    {
     "name": "stdout",
     "output_type": "stream",
     "text": [
      "[PRP -> 'I', NP -> PRP, S -> NP VP]\n"
     ]
    },
    {
     "data": {
      "text/plain": [
       "True"
      ]
     },
     "execution_count": 12,
     "metadata": {},
     "output_type": "execute_result"
    }
   ],
   "source": [
    "left_corner_parser(gram_lab, ['I', 'book', 'am', 'show'], gram_lab.start())"
   ]
  },
  {
   "cell_type": "code",
   "execution_count": null,
   "metadata": {},
   "outputs": [],
   "source": []
  }
 ],
 "metadata": {
  "kernelspec": {
   "display_name": "Python 3",
   "language": "python",
   "name": "python3"
  },
  "language_info": {
   "codemirror_mode": {
    "name": "ipython",
    "version": 3
   },
   "file_extension": ".py",
   "mimetype": "text/x-python",
   "name": "python",
   "nbconvert_exporter": "python",
   "pygments_lexer": "ipython3",
   "version": "3.7.6"
  }
 },
 "nbformat": 4,
 "nbformat_minor": 4
}
