{
 "cells": [
  {
   "cell_type": "markdown",
   "metadata": {},
   "source": [
    "Create a file with 5 English sentences. Write a Python program that uses nltk and the Stanford parser. The program must generate an output file containing the parsing of the sentences: both based on constituents and on dependences. For each sentence you'll have the following information printed in the file, in the bellow format:"
   ]
  },
  {
   "cell_type": "code",
   "execution_count": 1,
   "metadata": {},
   "outputs": [],
   "source": [
    "import os\n",
    "from nltk.parse.stanford import StanfordDependencyParser\n",
    "from nltk.tokenize import word_tokenize, sent_tokenize\n",
    "from nltk.parse import stanford"
   ]
  },
  {
   "cell_type": "code",
   "execution_count": 2,
   "metadata": {},
   "outputs": [
    {
     "name": "stderr",
     "output_type": "stream",
     "text": [
      "D:\\Anaconda\\lib\\site-packages\\ipykernel_launcher.py:4: DeprecationWarning: The StanfordParser will be deprecated\n",
      "Please use \u001b[91mnltk.parse.corenlp.CoreNLPParser\u001b[0m instead.\n",
      "  after removing the cwd from sys.path.\n",
      "D:\\Anaconda\\lib\\site-packages\\ipykernel_launcher.py:5: DeprecationWarning: The StanfordDependencyParser will be deprecated\n",
      "Please use \u001b[91mnltk.parse.corenlp.CoreNLPDependencyParser\u001b[0m instead.\n",
      "  \"\"\"\n"
     ]
    }
   ],
   "source": [
    "os.environ['STANFORD_PARSER'] = '.\\parser\\parser\\stanford-parser.jar'\n",
    "os.environ['STANFORD_MODELS'] = '.\\parser\\parser\\stanford-parser-4.2.0-models.jar'\n",
    "\n",
    "parser = stanford.StanfordParser(model_path=\".\\parser\\parser\\model\\englishPCFG.ser.gz\")\n",
    "dependency_parser = StanfordDependencyParser('.\\parser\\parser\\stanford-parser.jar', '.\\parser\\parser\\stanford-parser-4.2.0-models.jar')\n",
    "\n",
    "f = open(\"./nltk_stanford_syntax_analysis_out.txt\", \"w\")\n",
    "g = open(\"./nltk_stanford_syntax_analysis_in.txt\", \"r\")\n",
    "\n",
    "data = g.read()\n",
    "sentences = sent_tokenize(data)\n",
    "\n",
    "for index, sentence in enumerate(sentences):\n",
    "\n",
    "    f.write('Sentence - number ' + str(index + 1) + '\\n')\n",
    "    f.write(sentence)\n",
    "    f.write('\\n')\n",
    "    \n",
    "    for constituent in parser.raw_parse(sentence):\n",
    "        f.write(str(list(constituent)))\n",
    "    f.write('\\n')\n",
    "    \n",
    "    for dependency in dependency_parser.raw_parse(sentence):\n",
    "        f.write(str(list(dependency.triples())))\n",
    "    f.write('\\n')\n",
    "    \n",
    "    f.write('--------------------------------\\n')\n",
    "\n",
    "f.close()"
   ]
  }
 ],
 "metadata": {
  "kernelspec": {
   "display_name": "Python 3",
   "language": "python",
   "name": "python3"
  },
  "language_info": {
   "codemirror_mode": {
    "name": "ipython",
    "version": 3
   },
   "file_extension": ".py",
   "mimetype": "text/x-python",
   "name": "python",
   "nbconvert_exporter": "python",
   "pygments_lexer": "ipython3",
   "version": "3.7.6"
  }
 },
 "nbformat": 4,
 "nbformat_minor": 4
}
